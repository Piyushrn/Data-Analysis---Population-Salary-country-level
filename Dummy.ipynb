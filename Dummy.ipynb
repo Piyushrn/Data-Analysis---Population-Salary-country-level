{
 "cells": [
  {
   "cell_type": "raw",
   "id": "1e7b613b",
   "metadata": {},
   "source": [
    "1.\tHow many men and women are represented in this dataset?\n",
    "\n",
    "--- Male      21775\n",
    "    Female    10762\n",
    "    \n",
    "2.\tWhat is the average age of women?\n",
    "\n",
    "--- 36.86  \n",
    "\n",
    "3.\tWhat is the percentage of German citizens ?\n",
    "\n",
    "--- 0.42 %\n",
    "\n",
    "4.\tWhat are the mean and standard deviation of age for those who earn more than 50K per year and those who  earn less than 50K per year?\n",
    " \n",
    "--- salary > 50k\n",
    "    age mean = 44.250925\n",
    "    age std  = 10.520102\n",
    "    \n",
    "    salary <= 50k\n",
    "    age mean = 36.787392\n",
    "    age std  = 14.017335\n",
    "    \n",
    "5.\tIs it true that people who earn more than 50K have at least high school education? (education – Bachelors, Prof-school, Assoc-acdm, Assoc-voc, Masters or Doctorate feature)\n",
    "\n",
    "--- out of the people who earn greater than 50k 57% has only higher education, Therefore it is not true.\n",
    "\n",
    "6.\tDisplay age statistics for each race and each gender. \n",
    "\n",
    "--- Cell 97\n",
    "\n",
    "7.  Find the maximum age of men of Amer-Indian-Eskimo race.\n",
    "\n",
    "--- Maximum age is 82\n",
    "\n",
    "\n",
    "8.\tAmong whom is the proportion of those who earn a lot (>50K) greater: married or single men ? Consider as married those who have a marital-status starting with Married (Married-civ-spouse, Married-spouse-absent or Married-AF-spouse), the rest are considered bachelors.\n",
    "\n",
    "--- Married men who earn greater than 50k are 89.53% while the single men are 10.47%.\n",
    "\n",
    "\n",
    "8.\tWhat is the maximum number of hours a person works per week ? How many people work such a number of hours, and what is the percentage of those who earn a lot (>50K) among them?\n",
    "\n",
    "--- Maximum number of hours a person has worked per week is 99.\n",
    "    85 people have worked for 99 hours per week.\n",
    "    Out of 85 only 25 people earn more than >50K.\n",
    "\n",
    "9.\tCount the average time of work (hours-per-week) for those who earn a little and a lot (salary) for each country (native-country). What will these be for Japan?\n",
    "\n",
    "---      COUNTRY       >50K      <50K \n",
    "       Guatemala\t 36.666667\t39.338983\n",
    "1\t1\tNicaragua\t 37.500000\t36.093750\n",
    "2\t2\tChina\t     38.900000\t37.381818\n",
    "3\t3\tPoland\t     39.000000\t38.166667\n",
    "4\t4\tVietnam\t     39.200000\t37.193548\n",
    "5\t5\tPuerto-Rico\t 39.416667\t38.470588\n",
    "6\t6\tLaos\t     40.000000\t40.375000\n",
    "7\t7\tPeru\t     40.000000\t35.068966\n",
    "8\t8\tCambodia\t 40.000000\t41.416667\n",
    "9\t9\tTrinadad&Tobago\t40.000000\t37.058824\n",
    "10\t10\tJamaica\t     41.100000\t38.239437\n",
    "11\t11\tPortugal\t 41.500000\t41.939394\n",
    "12\t12\tCuba\t     42.440000\t37.985714\n",
    "13\t13\tHaiti\t     42.750000\t36.325000\n",
    "14\t14\tPhilippines\t 43.032787\t38.065693\n",
    "15\t15\tEngland\t     44.533333\t40.483333\n",
    "16\t16\tGermany\t     44.977273\t39.139785\n",
    "17\t17\tEl-Salvador\t 45.000000\t36.030928\n",
    "18\t18\tHong\t     45.000000\t39.142857\n",
    "19\t19\tItaly\t     45.400000\t39.625000\n",
    "20\t20\tUnited-States\t45.505789\t38.803812\n",
    "22\t22\tCanada\t     45.641026\t37.914634\n",
    "23\t23\tIndia\t     46.475000\t38.233333\n",
    "24\t24\tMexico\t     46.575758\t39.953795\n",
    "25\t25\tScotland\t 46.666667\t39.444444\n",
    "26\t26\tTaiwan\t     46.800000\t33.774194\n",
    "27\t27\tDominican-Republic\t47.000000\t42.338235\n",
    "28\t28\tIran\t     47.500000\t41.440000\n",
    "29\t29\tJapan\t     47.958333\t41.000000\n",
    "30\t30\tIreland\t     48.000000\t40.947368\n",
    "31\t31\tEcuador\t     48.750000\t38.041667\n",
    "32\t32\tYugoslavia\t 49.500000\t41.600000\n",
    "33\t33\tHungary\t     50.000000\t31.300000\n",
    "34\t34\tColumbia\t 50.000000\t38.684211\n",
    "35\t35\tGreece\t     50.625000\t41.809524\n",
    "36\t36\tFrance\t     50.750000\t41.058824\n",
    "37\t37\tSouth\t     51.437500\t40.156250\n",
    "38\t38\tThailand\t 58.333333\t42.866667\n",
    "39\t39\tHonduras\t 60.000000\t34.333333\n",
    "​"
   ]
  },
  {
   "cell_type": "code",
   "execution_count": 1,
   "id": "6cc78de8",
   "metadata": {},
   "outputs": [],
   "source": [
    "import pandas as pd\n",
    "import numpy as np\n",
    "import seaborn as sns\n",
    "import matplotlib.pyplot as plt"
   ]
  },
  {
   "cell_type": "code",
   "execution_count": 4,
   "id": "1d6987e5",
   "metadata": {},
   "outputs": [],
   "source": [
    "df = pd.read_csv('./adult_data.csv')"
   ]
  },
  {
   "cell_type": "code",
   "execution_count": 5,
   "id": "0c9ff9a2",
   "metadata": {},
   "outputs": [
    {
     "data": {
      "text/html": [
       "<div>\n",
       "<style scoped>\n",
       "    .dataframe tbody tr th:only-of-type {\n",
       "        vertical-align: middle;\n",
       "    }\n",
       "\n",
       "    .dataframe tbody tr th {\n",
       "        vertical-align: top;\n",
       "    }\n",
       "\n",
       "    .dataframe thead th {\n",
       "        text-align: right;\n",
       "    }\n",
       "</style>\n",
       "<table border=\"1\" class=\"dataframe\">\n",
       "  <thead>\n",
       "    <tr style=\"text-align: right;\">\n",
       "      <th></th>\n",
       "      <th>age</th>\n",
       "      <th>workclass</th>\n",
       "      <th>fnlwgt</th>\n",
       "      <th>education</th>\n",
       "      <th>education-num</th>\n",
       "      <th>marital-status</th>\n",
       "      <th>occupation</th>\n",
       "      <th>relationship</th>\n",
       "      <th>race</th>\n",
       "      <th>sex</th>\n",
       "      <th>capital-gain</th>\n",
       "      <th>capital-loss</th>\n",
       "      <th>hours-per-week</th>\n",
       "      <th>native-country</th>\n",
       "      <th>salary</th>\n",
       "    </tr>\n",
       "  </thead>\n",
       "  <tbody>\n",
       "    <tr>\n",
       "      <th>0</th>\n",
       "      <td>39</td>\n",
       "      <td>State-gov</td>\n",
       "      <td>77516</td>\n",
       "      <td>Bachelors</td>\n",
       "      <td>13</td>\n",
       "      <td>Never-married</td>\n",
       "      <td>Adm-clerical</td>\n",
       "      <td>Not-in-family</td>\n",
       "      <td>White</td>\n",
       "      <td>Male</td>\n",
       "      <td>2174</td>\n",
       "      <td>0</td>\n",
       "      <td>40</td>\n",
       "      <td>United-States</td>\n",
       "      <td>&lt;=50K</td>\n",
       "    </tr>\n",
       "    <tr>\n",
       "      <th>1</th>\n",
       "      <td>50</td>\n",
       "      <td>Self-emp-not-inc</td>\n",
       "      <td>83311</td>\n",
       "      <td>Bachelors</td>\n",
       "      <td>13</td>\n",
       "      <td>Married-civ-spouse</td>\n",
       "      <td>Exec-managerial</td>\n",
       "      <td>Husband</td>\n",
       "      <td>White</td>\n",
       "      <td>Male</td>\n",
       "      <td>0</td>\n",
       "      <td>0</td>\n",
       "      <td>13</td>\n",
       "      <td>United-States</td>\n",
       "      <td>&lt;=50K</td>\n",
       "    </tr>\n",
       "    <tr>\n",
       "      <th>2</th>\n",
       "      <td>38</td>\n",
       "      <td>Private</td>\n",
       "      <td>215646</td>\n",
       "      <td>HS-grad</td>\n",
       "      <td>9</td>\n",
       "      <td>Divorced</td>\n",
       "      <td>Handlers-cleaners</td>\n",
       "      <td>Not-in-family</td>\n",
       "      <td>White</td>\n",
       "      <td>Male</td>\n",
       "      <td>0</td>\n",
       "      <td>0</td>\n",
       "      <td>40</td>\n",
       "      <td>United-States</td>\n",
       "      <td>&lt;=50K</td>\n",
       "    </tr>\n",
       "    <tr>\n",
       "      <th>3</th>\n",
       "      <td>53</td>\n",
       "      <td>Private</td>\n",
       "      <td>234721</td>\n",
       "      <td>11th</td>\n",
       "      <td>7</td>\n",
       "      <td>Married-civ-spouse</td>\n",
       "      <td>Handlers-cleaners</td>\n",
       "      <td>Husband</td>\n",
       "      <td>Black</td>\n",
       "      <td>Male</td>\n",
       "      <td>0</td>\n",
       "      <td>0</td>\n",
       "      <td>40</td>\n",
       "      <td>United-States</td>\n",
       "      <td>&lt;=50K</td>\n",
       "    </tr>\n",
       "    <tr>\n",
       "      <th>4</th>\n",
       "      <td>28</td>\n",
       "      <td>Private</td>\n",
       "      <td>338409</td>\n",
       "      <td>Bachelors</td>\n",
       "      <td>13</td>\n",
       "      <td>Married-civ-spouse</td>\n",
       "      <td>Prof-specialty</td>\n",
       "      <td>Wife</td>\n",
       "      <td>Black</td>\n",
       "      <td>Female</td>\n",
       "      <td>0</td>\n",
       "      <td>0</td>\n",
       "      <td>40</td>\n",
       "      <td>Cuba</td>\n",
       "      <td>&lt;=50K</td>\n",
       "    </tr>\n",
       "    <tr>\n",
       "      <th>...</th>\n",
       "      <td>...</td>\n",
       "      <td>...</td>\n",
       "      <td>...</td>\n",
       "      <td>...</td>\n",
       "      <td>...</td>\n",
       "      <td>...</td>\n",
       "      <td>...</td>\n",
       "      <td>...</td>\n",
       "      <td>...</td>\n",
       "      <td>...</td>\n",
       "      <td>...</td>\n",
       "      <td>...</td>\n",
       "      <td>...</td>\n",
       "      <td>...</td>\n",
       "      <td>...</td>\n",
       "    </tr>\n",
       "    <tr>\n",
       "      <th>32556</th>\n",
       "      <td>27</td>\n",
       "      <td>Private</td>\n",
       "      <td>257302</td>\n",
       "      <td>Assoc-acdm</td>\n",
       "      <td>12</td>\n",
       "      <td>Married-civ-spouse</td>\n",
       "      <td>Tech-support</td>\n",
       "      <td>Wife</td>\n",
       "      <td>White</td>\n",
       "      <td>Female</td>\n",
       "      <td>0</td>\n",
       "      <td>0</td>\n",
       "      <td>38</td>\n",
       "      <td>United-States</td>\n",
       "      <td>&lt;=50K</td>\n",
       "    </tr>\n",
       "    <tr>\n",
       "      <th>32557</th>\n",
       "      <td>40</td>\n",
       "      <td>Private</td>\n",
       "      <td>154374</td>\n",
       "      <td>HS-grad</td>\n",
       "      <td>9</td>\n",
       "      <td>Married-civ-spouse</td>\n",
       "      <td>Machine-op-inspct</td>\n",
       "      <td>Husband</td>\n",
       "      <td>White</td>\n",
       "      <td>Male</td>\n",
       "      <td>0</td>\n",
       "      <td>0</td>\n",
       "      <td>40</td>\n",
       "      <td>United-States</td>\n",
       "      <td>&gt;50K</td>\n",
       "    </tr>\n",
       "    <tr>\n",
       "      <th>32558</th>\n",
       "      <td>58</td>\n",
       "      <td>Private</td>\n",
       "      <td>151910</td>\n",
       "      <td>HS-grad</td>\n",
       "      <td>9</td>\n",
       "      <td>Widowed</td>\n",
       "      <td>Adm-clerical</td>\n",
       "      <td>Unmarried</td>\n",
       "      <td>White</td>\n",
       "      <td>Female</td>\n",
       "      <td>0</td>\n",
       "      <td>0</td>\n",
       "      <td>40</td>\n",
       "      <td>United-States</td>\n",
       "      <td>&lt;=50K</td>\n",
       "    </tr>\n",
       "    <tr>\n",
       "      <th>32559</th>\n",
       "      <td>22</td>\n",
       "      <td>Private</td>\n",
       "      <td>201490</td>\n",
       "      <td>HS-grad</td>\n",
       "      <td>9</td>\n",
       "      <td>Never-married</td>\n",
       "      <td>Adm-clerical</td>\n",
       "      <td>Own-child</td>\n",
       "      <td>White</td>\n",
       "      <td>Male</td>\n",
       "      <td>0</td>\n",
       "      <td>0</td>\n",
       "      <td>20</td>\n",
       "      <td>United-States</td>\n",
       "      <td>&lt;=50K</td>\n",
       "    </tr>\n",
       "    <tr>\n",
       "      <th>32560</th>\n",
       "      <td>52</td>\n",
       "      <td>Self-emp-inc</td>\n",
       "      <td>287927</td>\n",
       "      <td>HS-grad</td>\n",
       "      <td>9</td>\n",
       "      <td>Married-civ-spouse</td>\n",
       "      <td>Exec-managerial</td>\n",
       "      <td>Wife</td>\n",
       "      <td>White</td>\n",
       "      <td>Female</td>\n",
       "      <td>15024</td>\n",
       "      <td>0</td>\n",
       "      <td>40</td>\n",
       "      <td>United-States</td>\n",
       "      <td>&gt;50K</td>\n",
       "    </tr>\n",
       "  </tbody>\n",
       "</table>\n",
       "<p>32561 rows × 15 columns</p>\n",
       "</div>"
      ],
      "text/plain": [
       "       age         workclass  fnlwgt   education  education-num  \\\n",
       "0       39         State-gov   77516   Bachelors             13   \n",
       "1       50  Self-emp-not-inc   83311   Bachelors             13   \n",
       "2       38           Private  215646     HS-grad              9   \n",
       "3       53           Private  234721        11th              7   \n",
       "4       28           Private  338409   Bachelors             13   \n",
       "...    ...               ...     ...         ...            ...   \n",
       "32556   27           Private  257302  Assoc-acdm             12   \n",
       "32557   40           Private  154374     HS-grad              9   \n",
       "32558   58           Private  151910     HS-grad              9   \n",
       "32559   22           Private  201490     HS-grad              9   \n",
       "32560   52      Self-emp-inc  287927     HS-grad              9   \n",
       "\n",
       "           marital-status         occupation   relationship   race     sex  \\\n",
       "0           Never-married       Adm-clerical  Not-in-family  White    Male   \n",
       "1      Married-civ-spouse    Exec-managerial        Husband  White    Male   \n",
       "2                Divorced  Handlers-cleaners  Not-in-family  White    Male   \n",
       "3      Married-civ-spouse  Handlers-cleaners        Husband  Black    Male   \n",
       "4      Married-civ-spouse     Prof-specialty           Wife  Black  Female   \n",
       "...                   ...                ...            ...    ...     ...   \n",
       "32556  Married-civ-spouse       Tech-support           Wife  White  Female   \n",
       "32557  Married-civ-spouse  Machine-op-inspct        Husband  White    Male   \n",
       "32558             Widowed       Adm-clerical      Unmarried  White  Female   \n",
       "32559       Never-married       Adm-clerical      Own-child  White    Male   \n",
       "32560  Married-civ-spouse    Exec-managerial           Wife  White  Female   \n",
       "\n",
       "       capital-gain  capital-loss  hours-per-week native-country salary  \n",
       "0              2174             0              40  United-States  <=50K  \n",
       "1                 0             0              13  United-States  <=50K  \n",
       "2                 0             0              40  United-States  <=50K  \n",
       "3                 0             0              40  United-States  <=50K  \n",
       "4                 0             0              40           Cuba  <=50K  \n",
       "...             ...           ...             ...            ...    ...  \n",
       "32556             0             0              38  United-States  <=50K  \n",
       "32557             0             0              40  United-States   >50K  \n",
       "32558             0             0              40  United-States  <=50K  \n",
       "32559             0             0              20  United-States  <=50K  \n",
       "32560         15024             0              40  United-States   >50K  \n",
       "\n",
       "[32561 rows x 15 columns]"
      ]
     },
     "execution_count": 5,
     "metadata": {},
     "output_type": "execute_result"
    }
   ],
   "source": [
    "df"
   ]
  },
  {
   "cell_type": "code",
   "execution_count": 8,
   "id": "d25bc551",
   "metadata": {},
   "outputs": [
    {
     "data": {
      "text/plain": [
       "24"
      ]
     },
     "execution_count": 8,
     "metadata": {},
     "output_type": "execute_result"
    }
   ],
   "source": [
    "df.duplicated().sum()"
   ]
  },
  {
   "cell_type": "code",
   "execution_count": 10,
   "id": "90f91e84",
   "metadata": {},
   "outputs": [],
   "source": [
    "df.drop_duplicates(inplace = True)"
   ]
  },
  {
   "cell_type": "code",
   "execution_count": 13,
   "id": "fd701f55",
   "metadata": {},
   "outputs": [
    {
     "data": {
      "text/plain": [
       "array(['Male', 'Female'], dtype=object)"
      ]
     },
     "execution_count": 13,
     "metadata": {},
     "output_type": "execute_result"
    }
   ],
   "source": [
    "df['sex'].unique()"
   ]
  },
  {
   "cell_type": "code",
   "execution_count": 17,
   "id": "0f9e315c",
   "metadata": {},
   "outputs": [
    {
     "data": {
      "text/plain": [
       "Male      21775\n",
       "Female    10762\n",
       "Name: sex, dtype: int64"
      ]
     },
     "execution_count": 17,
     "metadata": {},
     "output_type": "execute_result"
    }
   ],
   "source": [
    "df['sex'].value_counts()"
   ]
  },
  {
   "cell_type": "code",
   "execution_count": 14,
   "id": "4d992729",
   "metadata": {},
   "outputs": [
    {
     "name": "stderr",
     "output_type": "stream",
     "text": [
      "C:\\Users\\admin\\Anaconda3\\lib\\site-packages\\seaborn\\_decorators.py:36: FutureWarning: Pass the following variable as a keyword arg: x. From version 0.12, the only valid positional argument will be `data`, and passing other arguments without an explicit keyword will result in an error or misinterpretation.\n",
      "  warnings.warn(\n"
     ]
    },
    {
     "data": {
      "text/plain": [
       "<AxesSubplot:xlabel='sex', ylabel='count'>"
      ]
     },
     "execution_count": 14,
     "metadata": {},
     "output_type": "execute_result"
    },
    {
     "data": {
      "image/png": "[encoded data removed]",
      "text/plain": [
       "<Figure size 640x480 with 1 Axes>"
      ]
     },
     "metadata": {},
     "output_type": "display_data"
    }
   ],
   "source": [
    "sns.countplot(df['sex'])"
   ]
  },
  {
   "cell_type": "code",
   "execution_count": 18,
   "id": "8046dbb5",
   "metadata": {},
   "outputs": [],
   "source": [
    "# 2"
   ]
  },
  {
   "cell_type": "code",
   "execution_count": 25,
   "id": "a610891c",
   "metadata": {},
   "outputs": [],
   "source": [
    "fe = df[df['sex'] == 'Female']"
   ]
  },
  {
   "cell_type": "code",
   "execution_count": 31,
   "id": "1cf9c536",
   "metadata": {},
   "outputs": [
    {
     "data": {
      "text/plain": [
       "36.864709161865825"
      ]
     },
     "execution_count": 31,
     "metadata": {},
     "output_type": "execute_result"
    }
   ],
   "source": [
    "fe['age'].mean()"
   ]
  },
  {
   "cell_type": "code",
   "execution_count": 33,
   "id": "f6b2302b",
   "metadata": {},
   "outputs": [],
   "source": [
    "# 3"
   ]
  },
  {
   "cell_type": "code",
   "execution_count": 43,
   "id": "08c2d425",
   "metadata": {},
   "outputs": [],
   "source": [
    "total_pop = len(df)"
   ]
  },
  {
   "cell_type": "code",
   "execution_count": 49,
   "id": "dd457599",
   "metadata": {},
   "outputs": [],
   "source": [
    "# Number of german people\n",
    "\n",
    "no_of_germans = len(df[df['native-country'] == 'Germany'])\n",
    "\n"
   ]
  },
  {
   "cell_type": "code",
   "execution_count": 46,
   "id": "85b20d6b",
   "metadata": {},
   "outputs": [],
   "source": [
    "Percentage_of_germans = (no_of_germans / total_pop) * 100"
   ]
  },
  {
   "cell_type": "code",
   "execution_count": 47,
   "id": "a4a1779a",
   "metadata": {},
   "outputs": [
    {
     "data": {
      "text/plain": [
       "0.4210591019454774"
      ]
     },
     "execution_count": 47,
     "metadata": {},
     "output_type": "execute_result"
    }
   ],
   "source": [
    "Percentage_of_germans"
   ]
  },
  {
   "cell_type": "code",
   "execution_count": 48,
   "id": "d7fcaff6",
   "metadata": {},
   "outputs": [],
   "source": [
    "# 4"
   ]
  },
  {
   "cell_type": "code",
   "execution_count": 53,
   "id": "52102b31",
   "metadata": {},
   "outputs": [
    {
     "name": "stderr",
     "output_type": "stream",
     "text": [
      "C:\\Users\\admin\\AppData\\Local\\Temp\\ipykernel_14304\\3455953258.py:1: FutureWarning: Dropping of nuisance columns in DataFrame reductions (with 'numeric_only=None') is deprecated; in a future version this will raise TypeError.  Select only valid columns before calling the reduction.\n",
      "  df[df['salary'] == '>50K'].mean()\n"
     ]
    },
    {
     "data": {
      "text/plain": [
       "age                   44.250925\n",
       "fnlwgt            188000.480674\n",
       "education-num         11.612195\n",
       "capital-gain        4007.164562\n",
       "capital-loss         195.051282\n",
       "hours-per-week        45.473402\n",
       "dtype: float64"
      ]
     },
     "execution_count": 53,
     "metadata": {},
     "output_type": "execute_result"
    }
   ],
   "source": [
    "df[df['salary'] == '>50K'].mean()"
   ]
  },
  {
   "cell_type": "code",
   "execution_count": 54,
   "id": "ebff3524",
   "metadata": {},
   "outputs": [
    {
     "name": "stderr",
     "output_type": "stream",
     "text": [
      "C:\\Users\\admin\\AppData\\Local\\Temp\\ipykernel_14304\\1196101437.py:1: FutureWarning: Dropping of nuisance columns in DataFrame reductions (with 'numeric_only=None') is deprecated; in a future version this will raise TypeError.  Select only valid columns before calling the reduction.\n",
      "  df[df['salary'] == '>50K'].std()\n"
     ]
    },
    {
     "data": {
      "text/plain": [
       "age                   10.520102\n",
       "fnlwgt            102554.464101\n",
       "education-num          2.385181\n",
       "capital-gain       14572.097223\n",
       "capital-loss         595.555395\n",
       "hours-per-week        11.014165\n",
       "dtype: float64"
      ]
     },
     "execution_count": 54,
     "metadata": {},
     "output_type": "execute_result"
    }
   ],
   "source": [
    "df[df['salary'] == '>50K'].std()"
   ]
  },
  {
   "cell_type": "code",
   "execution_count": 57,
   "id": "7c59e8a8",
   "metadata": {},
   "outputs": [
    {
     "name": "stderr",
     "output_type": "stream",
     "text": [
      "C:\\Users\\admin\\AppData\\Local\\Temp\\ipykernel_14304\\2689684851.py:1: FutureWarning: Dropping of nuisance columns in DataFrame reductions (with 'numeric_only=None') is deprecated; in a future version this will raise TypeError.  Select only valid columns before calling the reduction.\n",
      "  df[df['salary'] == '<=50K'].mean()\n"
     ]
    },
    {
     "data": {
      "text/plain": [
       "age                   36.787392\n",
       "fnlwgt            190345.926796\n",
       "education-num          9.596081\n",
       "capital-gain         148.884970\n",
       "capital-loss          53.190258\n",
       "hours-per-week        38.842862\n",
       "dtype: float64"
      ]
     },
     "execution_count": 57,
     "metadata": {},
     "output_type": "execute_result"
    }
   ],
   "source": [
    "df[df['salary'] == '<=50K'].mean()"
   ]
  },
  {
   "cell_type": "code",
   "execution_count": 58,
   "id": "ee1c30ed",
   "metadata": {},
   "outputs": [
    {
     "name": "stderr",
     "output_type": "stream",
     "text": [
      "C:\\Users\\admin\\AppData\\Local\\Temp\\ipykernel_14304\\2972548672.py:1: FutureWarning: Dropping of nuisance columns in DataFrame reductions (with 'numeric_only=None') is deprecated; in a future version this will raise TypeError.  Select only valid columns before calling the reduction.\n",
      "  df[df['salary'] == '<=50K'].std()\n"
     ]
    },
    {
     "data": {
      "text/plain": [
       "age                   14.017335\n",
       "fnlwgt            106487.413197\n",
       "education-num          2.434654\n",
       "capital-gain         963.557955\n",
       "capital-loss         310.890099\n",
       "hours-per-week        12.318286\n",
       "dtype: float64"
      ]
     },
     "execution_count": 58,
     "metadata": {},
     "output_type": "execute_result"
    }
   ],
   "source": [
    "df[df['salary'] == '<=50K'].std()"
   ]
  },
  {
   "cell_type": "code",
   "execution_count": 61,
   "id": "4e6a4734",
   "metadata": {},
   "outputs": [
    {
     "data": {
      "text/plain": [
       "array(['Bachelors', 'HS-grad', '11th', 'Masters', '9th', 'Some-college',\n",
       "       'Assoc-acdm', 'Assoc-voc', '7th-8th', 'Doctorate', 'Prof-school',\n",
       "       '5th-6th', '10th', '1st-4th', 'Preschool', '12th'], dtype=object)"
      ]
     },
     "execution_count": 61,
     "metadata": {},
     "output_type": "execute_result"
    }
   ],
   "source": [
    "df['education'].unique()"
   ]
  },
  {
   "cell_type": "code",
   "execution_count": 62,
   "id": "e02fc010",
   "metadata": {},
   "outputs": [
    {
     "data": {
      "text/html": [
       "<div>\n",
       "<style scoped>\n",
       "    .dataframe tbody tr th:only-of-type {\n",
       "        vertical-align: middle;\n",
       "    }\n",
       "\n",
       "    .dataframe tbody tr th {\n",
       "        vertical-align: top;\n",
       "    }\n",
       "\n",
       "    .dataframe thead th {\n",
       "        text-align: right;\n",
       "    }\n",
       "</style>\n",
       "<table border=\"1\" class=\"dataframe\">\n",
       "  <thead>\n",
       "    <tr style=\"text-align: right;\">\n",
       "      <th></th>\n",
       "      <th>age</th>\n",
       "      <th>workclass</th>\n",
       "      <th>fnlwgt</th>\n",
       "      <th>education</th>\n",
       "      <th>education-num</th>\n",
       "      <th>marital-status</th>\n",
       "      <th>occupation</th>\n",
       "      <th>relationship</th>\n",
       "      <th>race</th>\n",
       "      <th>sex</th>\n",
       "      <th>capital-gain</th>\n",
       "      <th>capital-loss</th>\n",
       "      <th>hours-per-week</th>\n",
       "      <th>native-country</th>\n",
       "      <th>salary</th>\n",
       "    </tr>\n",
       "  </thead>\n",
       "  <tbody>\n",
       "    <tr>\n",
       "      <th>0</th>\n",
       "      <td>39</td>\n",
       "      <td>State-gov</td>\n",
       "      <td>77516</td>\n",
       "      <td>Bachelors</td>\n",
       "      <td>13</td>\n",
       "      <td>Never-married</td>\n",
       "      <td>Adm-clerical</td>\n",
       "      <td>Not-in-family</td>\n",
       "      <td>White</td>\n",
       "      <td>Male</td>\n",
       "      <td>2174</td>\n",
       "      <td>0</td>\n",
       "      <td>40</td>\n",
       "      <td>United-States</td>\n",
       "      <td>&lt;=50K</td>\n",
       "    </tr>\n",
       "    <tr>\n",
       "      <th>1</th>\n",
       "      <td>50</td>\n",
       "      <td>Self-emp-not-inc</td>\n",
       "      <td>83311</td>\n",
       "      <td>Bachelors</td>\n",
       "      <td>13</td>\n",
       "      <td>Married-civ-spouse</td>\n",
       "      <td>Exec-managerial</td>\n",
       "      <td>Husband</td>\n",
       "      <td>White</td>\n",
       "      <td>Male</td>\n",
       "      <td>0</td>\n",
       "      <td>0</td>\n",
       "      <td>13</td>\n",
       "      <td>United-States</td>\n",
       "      <td>&lt;=50K</td>\n",
       "    </tr>\n",
       "    <tr>\n",
       "      <th>2</th>\n",
       "      <td>38</td>\n",
       "      <td>Private</td>\n",
       "      <td>215646</td>\n",
       "      <td>HS-grad</td>\n",
       "      <td>9</td>\n",
       "      <td>Divorced</td>\n",
       "      <td>Handlers-cleaners</td>\n",
       "      <td>Not-in-family</td>\n",
       "      <td>White</td>\n",
       "      <td>Male</td>\n",
       "      <td>0</td>\n",
       "      <td>0</td>\n",
       "      <td>40</td>\n",
       "      <td>United-States</td>\n",
       "      <td>&lt;=50K</td>\n",
       "    </tr>\n",
       "    <tr>\n",
       "      <th>3</th>\n",
       "      <td>53</td>\n",
       "      <td>Private</td>\n",
       "      <td>234721</td>\n",
       "      <td>11th</td>\n",
       "      <td>7</td>\n",
       "      <td>Married-civ-spouse</td>\n",
       "      <td>Handlers-cleaners</td>\n",
       "      <td>Husband</td>\n",
       "      <td>Black</td>\n",
       "      <td>Male</td>\n",
       "      <td>0</td>\n",
       "      <td>0</td>\n",
       "      <td>40</td>\n",
       "      <td>United-States</td>\n",
       "      <td>&lt;=50K</td>\n",
       "    </tr>\n",
       "    <tr>\n",
       "      <th>4</th>\n",
       "      <td>28</td>\n",
       "      <td>Private</td>\n",
       "      <td>338409</td>\n",
       "      <td>Bachelors</td>\n",
       "      <td>13</td>\n",
       "      <td>Married-civ-spouse</td>\n",
       "      <td>Prof-specialty</td>\n",
       "      <td>Wife</td>\n",
       "      <td>Black</td>\n",
       "      <td>Female</td>\n",
       "      <td>0</td>\n",
       "      <td>0</td>\n",
       "      <td>40</td>\n",
       "      <td>Cuba</td>\n",
       "      <td>&lt;=50K</td>\n",
       "    </tr>\n",
       "    <tr>\n",
       "      <th>...</th>\n",
       "      <td>...</td>\n",
       "      <td>...</td>\n",
       "      <td>...</td>\n",
       "      <td>...</td>\n",
       "      <td>...</td>\n",
       "      <td>...</td>\n",
       "      <td>...</td>\n",
       "      <td>...</td>\n",
       "      <td>...</td>\n",
       "      <td>...</td>\n",
       "      <td>...</td>\n",
       "      <td>...</td>\n",
       "      <td>...</td>\n",
       "      <td>...</td>\n",
       "      <td>...</td>\n",
       "    </tr>\n",
       "    <tr>\n",
       "      <th>32556</th>\n",
       "      <td>27</td>\n",
       "      <td>Private</td>\n",
       "      <td>257302</td>\n",
       "      <td>Assoc-acdm</td>\n",
       "      <td>12</td>\n",
       "      <td>Married-civ-spouse</td>\n",
       "      <td>Tech-support</td>\n",
       "      <td>Wife</td>\n",
       "      <td>White</td>\n",
       "      <td>Female</td>\n",
       "      <td>0</td>\n",
       "      <td>0</td>\n",
       "      <td>38</td>\n",
       "      <td>United-States</td>\n",
       "      <td>&lt;=50K</td>\n",
       "    </tr>\n",
       "    <tr>\n",
       "      <th>32557</th>\n",
       "      <td>40</td>\n",
       "      <td>Private</td>\n",
       "      <td>154374</td>\n",
       "      <td>HS-grad</td>\n",
       "      <td>9</td>\n",
       "      <td>Married-civ-spouse</td>\n",
       "      <td>Machine-op-inspct</td>\n",
       "      <td>Husband</td>\n",
       "      <td>White</td>\n",
       "      <td>Male</td>\n",
       "      <td>0</td>\n",
       "      <td>0</td>\n",
       "      <td>40</td>\n",
       "      <td>United-States</td>\n",
       "      <td>&gt;50K</td>\n",
       "    </tr>\n",
       "    <tr>\n",
       "      <th>32558</th>\n",
       "      <td>58</td>\n",
       "      <td>Private</td>\n",
       "      <td>151910</td>\n",
       "      <td>HS-grad</td>\n",
       "      <td>9</td>\n",
       "      <td>Widowed</td>\n",
       "      <td>Adm-clerical</td>\n",
       "      <td>Unmarried</td>\n",
       "      <td>White</td>\n",
       "      <td>Female</td>\n",
       "      <td>0</td>\n",
       "      <td>0</td>\n",
       "      <td>40</td>\n",
       "      <td>United-States</td>\n",
       "      <td>&lt;=50K</td>\n",
       "    </tr>\n",
       "    <tr>\n",
       "      <th>32559</th>\n",
       "      <td>22</td>\n",
       "      <td>Private</td>\n",
       "      <td>201490</td>\n",
       "      <td>HS-grad</td>\n",
       "      <td>9</td>\n",
       "      <td>Never-married</td>\n",
       "      <td>Adm-clerical</td>\n",
       "      <td>Own-child</td>\n",
       "      <td>White</td>\n",
       "      <td>Male</td>\n",
       "      <td>0</td>\n",
       "      <td>0</td>\n",
       "      <td>20</td>\n",
       "      <td>United-States</td>\n",
       "      <td>&lt;=50K</td>\n",
       "    </tr>\n",
       "    <tr>\n",
       "      <th>32560</th>\n",
       "      <td>52</td>\n",
       "      <td>Self-emp-inc</td>\n",
       "      <td>287927</td>\n",
       "      <td>HS-grad</td>\n",
       "      <td>9</td>\n",
       "      <td>Married-civ-spouse</td>\n",
       "      <td>Exec-managerial</td>\n",
       "      <td>Wife</td>\n",
       "      <td>White</td>\n",
       "      <td>Female</td>\n",
       "      <td>15024</td>\n",
       "      <td>0</td>\n",
       "      <td>40</td>\n",
       "      <td>United-States</td>\n",
       "      <td>&gt;50K</td>\n",
       "    </tr>\n",
       "  </tbody>\n",
       "</table>\n",
       "<p>32537 rows × 15 columns</p>\n",
       "</div>"
      ],
      "text/plain": [
       "       age         workclass  fnlwgt   education  education-num  \\\n",
       "0       39         State-gov   77516   Bachelors             13   \n",
       "1       50  Self-emp-not-inc   83311   Bachelors             13   \n",
       "2       38           Private  215646     HS-grad              9   \n",
       "3       53           Private  234721        11th              7   \n",
       "4       28           Private  338409   Bachelors             13   \n",
       "...    ...               ...     ...         ...            ...   \n",
       "32556   27           Private  257302  Assoc-acdm             12   \n",
       "32557   40           Private  154374     HS-grad              9   \n",
       "32558   58           Private  151910     HS-grad              9   \n",
       "32559   22           Private  201490     HS-grad              9   \n",
       "32560   52      Self-emp-inc  287927     HS-grad              9   \n",
       "\n",
       "           marital-status         occupation   relationship   race     sex  \\\n",
       "0           Never-married       Adm-clerical  Not-in-family  White    Male   \n",
       "1      Married-civ-spouse    Exec-managerial        Husband  White    Male   \n",
       "2                Divorced  Handlers-cleaners  Not-in-family  White    Male   \n",
       "3      Married-civ-spouse  Handlers-cleaners        Husband  Black    Male   \n",
       "4      Married-civ-spouse     Prof-specialty           Wife  Black  Female   \n",
       "...                   ...                ...            ...    ...     ...   \n",
       "32556  Married-civ-spouse       Tech-support           Wife  White  Female   \n",
       "32557  Married-civ-spouse  Machine-op-inspct        Husband  White    Male   \n",
       "32558             Widowed       Adm-clerical      Unmarried  White  Female   \n",
       "32559       Never-married       Adm-clerical      Own-child  White    Male   \n",
       "32560  Married-civ-spouse    Exec-managerial           Wife  White  Female   \n",
       "\n",
       "       capital-gain  capital-loss  hours-per-week native-country salary  \n",
       "0              2174             0              40  United-States  <=50K  \n",
       "1                 0             0              13  United-States  <=50K  \n",
       "2                 0             0              40  United-States  <=50K  \n",
       "3                 0             0              40  United-States  <=50K  \n",
       "4                 0             0              40           Cuba  <=50K  \n",
       "...             ...           ...             ...            ...    ...  \n",
       "32556             0             0              38  United-States  <=50K  \n",
       "32557             0             0              40  United-States   >50K  \n",
       "32558             0             0              40  United-States  <=50K  \n",
       "32559             0             0              20  United-States  <=50K  \n",
       "32560         15024             0              40  United-States   >50K  \n",
       "\n",
       "[32537 rows x 15 columns]"
      ]
     },
     "execution_count": 62,
     "metadata": {},
     "output_type": "execute_result"
    }
   ],
   "source": [
    "df"
   ]
  },
  {
   "cell_type": "code",
   "execution_count": 77,
   "id": "d544978b",
   "metadata": {},
   "outputs": [
    {
     "data": {
      "text/plain": [
       "education     education-num\n",
       "Preschool     1                   50\n",
       "1st-4th       2                  166\n",
       "5th-6th       3                  332\n",
       "Doctorate     16                 413\n",
       "12th          8                  433\n",
       "9th           5                  514\n",
       "Prof-school   15                 576\n",
       "7th-8th       4                  645\n",
       "10th          6                  933\n",
       "Assoc-acdm    12                1067\n",
       "11th          7                 1175\n",
       "Assoc-voc     11                1382\n",
       "Masters       14                1722\n",
       "Bachelors     13                5353\n",
       "Some-college  10                7282\n",
       "HS-grad       9                10494\n",
       "dtype: int64"
      ]
     },
     "execution_count": 77,
     "metadata": {},
     "output_type": "execute_result"
    }
   ],
   "source": [
    "df[['education','education-num']].value_counts().sort_values()"
   ]
  },
  {
   "cell_type": "code",
   "execution_count": 71,
   "id": "8995c9ee",
   "metadata": {},
   "outputs": [],
   "source": [
    "# sorting the data for greater  than 10 education number for higher education\n",
    "\n",
    "edu = df[df['education-num'] > 10]"
   ]
  },
  {
   "cell_type": "code",
   "execution_count": 80,
   "id": "370c002f",
   "metadata": {},
   "outputs": [
    {
     "data": {
      "text/plain": [
       "10513"
      ]
     },
     "execution_count": 80,
     "metadata": {},
     "output_type": "execute_result"
    }
   ],
   "source": [
    "edu[['education','education-num']].value_counts().sum()"
   ]
  },
  {
   "cell_type": "code",
   "execution_count": 86,
   "id": "8c6289e0",
   "metadata": {},
   "outputs": [],
   "source": [
    "greater_than_50 = df[df['salary'] == '>50K']"
   ]
  },
  {
   "cell_type": "code",
   "execution_count": 90,
   "id": "815c57fc",
   "metadata": {},
   "outputs": [
    {
     "data": {
      "text/plain": [
       "7839"
      ]
     },
     "execution_count": 90,
     "metadata": {},
     "output_type": "execute_result"
    }
   ],
   "source": [
    "len(greater_than_50)"
   ]
  },
  {
   "cell_type": "code",
   "execution_count": 89,
   "id": "76e34adb",
   "metadata": {},
   "outputs": [
    {
     "data": {
      "text/plain": [
       "4535"
      ]
     },
     "execution_count": 89,
     "metadata": {},
     "output_type": "execute_result"
    }
   ],
   "source": [
    "len(greater_than_50[greater_than_50['education-num'] > 10])"
   ]
  },
  {
   "cell_type": "code",
   "execution_count": 93,
   "id": "4b9652d9",
   "metadata": {},
   "outputs": [
    {
     "data": {
      "text/plain": [
       "57.85176680699069"
      ]
     },
     "execution_count": 93,
     "metadata": {},
     "output_type": "execute_result"
    }
   ],
   "source": [
    "#   Percentage_of_higher_edu_greater_than_50k\n",
    "len(greater_than_50[greater_than_50['education-num'] > 10])/len(greater_than_50) * 100"
   ]
  },
  {
   "cell_type": "code",
   "execution_count": 97,
   "id": "ee489f59",
   "metadata": {},
   "outputs": [
    {
     "data": {
      "text/html": [
       "<div>\n",
       "<style scoped>\n",
       "    .dataframe tbody tr th:only-of-type {\n",
       "        vertical-align: middle;\n",
       "    }\n",
       "\n",
       "    .dataframe tbody tr th {\n",
       "        vertical-align: top;\n",
       "    }\n",
       "\n",
       "    .dataframe thead th {\n",
       "        text-align: right;\n",
       "    }\n",
       "</style>\n",
       "<table border=\"1\" class=\"dataframe\">\n",
       "  <thead>\n",
       "    <tr style=\"text-align: right;\">\n",
       "      <th></th>\n",
       "      <th></th>\n",
       "      <th>count</th>\n",
       "      <th>mean</th>\n",
       "      <th>std</th>\n",
       "      <th>min</th>\n",
       "      <th>25%</th>\n",
       "      <th>50%</th>\n",
       "      <th>75%</th>\n",
       "      <th>max</th>\n",
       "    </tr>\n",
       "    <tr>\n",
       "      <th>race</th>\n",
       "      <th>sex</th>\n",
       "      <th></th>\n",
       "      <th></th>\n",
       "      <th></th>\n",
       "      <th></th>\n",
       "      <th></th>\n",
       "      <th></th>\n",
       "      <th></th>\n",
       "      <th></th>\n",
       "    </tr>\n",
       "  </thead>\n",
       "  <tbody>\n",
       "    <tr>\n",
       "      <th rowspan=\"2\" valign=\"top\">Amer-Indian-Eskimo</th>\n",
       "      <th>Female</th>\n",
       "      <td>119.0</td>\n",
       "      <td>37.117647</td>\n",
       "      <td>13.114991</td>\n",
       "      <td>17.0</td>\n",
       "      <td>27.0</td>\n",
       "      <td>36.0</td>\n",
       "      <td>46.00</td>\n",
       "      <td>80.0</td>\n",
       "    </tr>\n",
       "    <tr>\n",
       "      <th>Male</th>\n",
       "      <td>192.0</td>\n",
       "      <td>37.208333</td>\n",
       "      <td>12.049563</td>\n",
       "      <td>17.0</td>\n",
       "      <td>28.0</td>\n",
       "      <td>35.0</td>\n",
       "      <td>45.00</td>\n",
       "      <td>82.0</td>\n",
       "    </tr>\n",
       "    <tr>\n",
       "      <th rowspan=\"2\" valign=\"top\">Asian-Pac-Islander</th>\n",
       "      <th>Female</th>\n",
       "      <td>346.0</td>\n",
       "      <td>35.089595</td>\n",
       "      <td>12.300845</td>\n",
       "      <td>17.0</td>\n",
       "      <td>25.0</td>\n",
       "      <td>33.0</td>\n",
       "      <td>43.75</td>\n",
       "      <td>75.0</td>\n",
       "    </tr>\n",
       "    <tr>\n",
       "      <th>Male</th>\n",
       "      <td>692.0</td>\n",
       "      <td>39.000000</td>\n",
       "      <td>12.746669</td>\n",
       "      <td>18.0</td>\n",
       "      <td>29.0</td>\n",
       "      <td>37.0</td>\n",
       "      <td>46.00</td>\n",
       "      <td>90.0</td>\n",
       "    </tr>\n",
       "    <tr>\n",
       "      <th rowspan=\"2\" valign=\"top\">Black</th>\n",
       "      <th>Female</th>\n",
       "      <td>1555.0</td>\n",
       "      <td>37.854019</td>\n",
       "      <td>12.637197</td>\n",
       "      <td>17.0</td>\n",
       "      <td>28.0</td>\n",
       "      <td>37.0</td>\n",
       "      <td>46.00</td>\n",
       "      <td>90.0</td>\n",
       "    </tr>\n",
       "    <tr>\n",
       "      <th>Male</th>\n",
       "      <td>1567.0</td>\n",
       "      <td>37.699426</td>\n",
       "      <td>12.880714</td>\n",
       "      <td>17.0</td>\n",
       "      <td>27.0</td>\n",
       "      <td>36.0</td>\n",
       "      <td>46.00</td>\n",
       "      <td>90.0</td>\n",
       "    </tr>\n",
       "    <tr>\n",
       "      <th rowspan=\"2\" valign=\"top\">Other</th>\n",
       "      <th>Female</th>\n",
       "      <td>109.0</td>\n",
       "      <td>31.678899</td>\n",
       "      <td>11.631599</td>\n",
       "      <td>17.0</td>\n",
       "      <td>23.0</td>\n",
       "      <td>29.0</td>\n",
       "      <td>39.00</td>\n",
       "      <td>74.0</td>\n",
       "    </tr>\n",
       "    <tr>\n",
       "      <th>Male</th>\n",
       "      <td>162.0</td>\n",
       "      <td>34.654321</td>\n",
       "      <td>11.355531</td>\n",
       "      <td>17.0</td>\n",
       "      <td>26.0</td>\n",
       "      <td>32.0</td>\n",
       "      <td>42.00</td>\n",
       "      <td>77.0</td>\n",
       "    </tr>\n",
       "    <tr>\n",
       "      <th rowspan=\"2\" valign=\"top\">White</th>\n",
       "      <th>Female</th>\n",
       "      <td>8633.0</td>\n",
       "      <td>36.819646</td>\n",
       "      <td>14.331045</td>\n",
       "      <td>17.0</td>\n",
       "      <td>25.0</td>\n",
       "      <td>35.0</td>\n",
       "      <td>46.00</td>\n",
       "      <td>90.0</td>\n",
       "    </tr>\n",
       "    <tr>\n",
       "      <th>Male</th>\n",
       "      <td>19162.0</td>\n",
       "      <td>39.656560</td>\n",
       "      <td>13.436249</td>\n",
       "      <td>17.0</td>\n",
       "      <td>29.0</td>\n",
       "      <td>38.0</td>\n",
       "      <td>49.00</td>\n",
       "      <td>90.0</td>\n",
       "    </tr>\n",
       "  </tbody>\n",
       "</table>\n",
       "</div>"
      ],
      "text/plain": [
       "                             count       mean        std   min   25%   50%  \\\n",
       "race               sex                                                       \n",
       "Amer-Indian-Eskimo Female    119.0  37.117647  13.114991  17.0  27.0  36.0   \n",
       "                   Male      192.0  37.208333  12.049563  17.0  28.0  35.0   \n",
       "Asian-Pac-Islander Female    346.0  35.089595  12.300845  17.0  25.0  33.0   \n",
       "                   Male      692.0  39.000000  12.746669  18.0  29.0  37.0   \n",
       "Black              Female   1555.0  37.854019  12.637197  17.0  28.0  37.0   \n",
       "                   Male     1567.0  37.699426  12.880714  17.0  27.0  36.0   \n",
       "Other              Female    109.0  31.678899  11.631599  17.0  23.0  29.0   \n",
       "                   Male      162.0  34.654321  11.355531  17.0  26.0  32.0   \n",
       "White              Female   8633.0  36.819646  14.331045  17.0  25.0  35.0   \n",
       "                   Male    19162.0  39.656560  13.436249  17.0  29.0  38.0   \n",
       "\n",
       "                             75%   max  \n",
       "race               sex                  \n",
       "Amer-Indian-Eskimo Female  46.00  80.0  \n",
       "                   Male    45.00  82.0  \n",
       "Asian-Pac-Islander Female  43.75  75.0  \n",
       "                   Male    46.00  90.0  \n",
       "Black              Female  46.00  90.0  \n",
       "                   Male    46.00  90.0  \n",
       "Other              Female  39.00  74.0  \n",
       "                   Male    42.00  77.0  \n",
       "White              Female  46.00  90.0  \n",
       "                   Male    49.00  90.0  "
      ]
     },
     "execution_count": 97,
     "metadata": {},
     "output_type": "execute_result"
    }
   ],
   "source": [
    "df.groupby(['race', 'sex'])['age'].describe()"
   ]
  },
  {
   "cell_type": "code",
   "execution_count": 98,
   "id": "06841015",
   "metadata": {},
   "outputs": [
    {
     "data": {
      "text/plain": [
       "array(['White', 'Black', 'Asian-Pac-Islander', 'Amer-Indian-Eskimo',\n",
       "       'Other'], dtype=object)"
      ]
     },
     "execution_count": 98,
     "metadata": {},
     "output_type": "execute_result"
    }
   ],
   "source": [
    "df['race'].unique()"
   ]
  },
  {
   "cell_type": "code",
   "execution_count": 100,
   "id": "c27d9613",
   "metadata": {},
   "outputs": [
    {
     "data": {
      "text/plain": [
       "age                               82\n",
       "workclass                  State-gov\n",
       "fnlwgt                        445168\n",
       "education               Some-college\n",
       "education-num                     16\n",
       "marital-status               Widowed\n",
       "occupation          Transport-moving\n",
       "relationship                    Wife\n",
       "race              Amer-Indian-Eskimo\n",
       "sex                             Male\n",
       "capital-gain                   27828\n",
       "capital-loss                    1980\n",
       "hours-per-week                    84\n",
       "native-country         United-States\n",
       "salary                          >50K\n",
       "dtype: object"
      ]
     },
     "execution_count": 100,
     "metadata": {},
     "output_type": "execute_result"
    }
   ],
   "source": [
    "df[df['race'] == 'Amer-Indian-Eskimo'].max()"
   ]
  },
  {
   "cell_type": "code",
   "execution_count": 103,
   "id": "34394d2b",
   "metadata": {},
   "outputs": [
    {
     "data": {
      "text/plain": [
       "array(['Never-married', 'Married-civ-spouse', 'Divorced',\n",
       "       'Married-spouse-absent', 'Separated', 'Married-AF-spouse',\n",
       "       'Widowed'], dtype=object)"
      ]
     },
     "execution_count": 103,
     "metadata": {},
     "output_type": "execute_result"
    }
   ],
   "source": [
    "df['marital-status'].unique()"
   ]
  },
  {
   "cell_type": "code",
   "execution_count": 108,
   "id": "a120cdbb",
   "metadata": {},
   "outputs": [],
   "source": [
    "male = df[df['sex'] == 'Male']"
   ]
  },
  {
   "cell_type": "code",
   "execution_count": 110,
   "id": "bb09fd97",
   "metadata": {},
   "outputs": [],
   "source": [
    "male_more_50k = male[male['salary'] == '>50K']"
   ]
  },
  {
   "cell_type": "code",
   "execution_count": 115,
   "id": "dfa04166",
   "metadata": {},
   "outputs": [],
   "source": [
    "filtered_df = male_more_50k[male_more_50k['marital-status'].str.startswith('Married', na=False)]\n"
   ]
  },
  {
   "cell_type": "code",
   "execution_count": 117,
   "id": "375c1b2f",
   "metadata": {},
   "outputs": [
    {
     "data": {
      "text/plain": [
       "5963"
      ]
     },
     "execution_count": 117,
     "metadata": {},
     "output_type": "execute_result"
    }
   ],
   "source": [
    "len(filtered_df)"
   ]
  },
  {
   "cell_type": "code",
   "execution_count": 118,
   "id": "9cf7d0d8",
   "metadata": {},
   "outputs": [
    {
     "data": {
      "text/plain": [
       "6660"
      ]
     },
     "execution_count": 118,
     "metadata": {},
     "output_type": "execute_result"
    }
   ],
   "source": [
    "len(male_more_50k)"
   ]
  },
  {
   "cell_type": "code",
   "execution_count": 119,
   "id": "76e5d1a8",
   "metadata": {},
   "outputs": [
    {
     "data": {
      "text/plain": [
       "89.53453453453454"
      ]
     },
     "execution_count": 119,
     "metadata": {},
     "output_type": "execute_result"
    }
   ],
   "source": [
    "# Married men who earn greater than 50K\n",
    "\n",
    "len(filtered_df) / len(male_more_50k) * 100"
   ]
  },
  {
   "cell_type": "code",
   "execution_count": 124,
   "id": "79b4b05c",
   "metadata": {},
   "outputs": [
    {
     "data": {
      "text/plain": [
       "99"
      ]
     },
     "execution_count": 124,
     "metadata": {},
     "output_type": "execute_result"
    }
   ],
   "source": [
    "df['hours-per-week'].max()"
   ]
  },
  {
   "cell_type": "code",
   "execution_count": 127,
   "id": "f4250744",
   "metadata": {},
   "outputs": [
    {
     "data": {
      "text/plain": [
       "85"
      ]
     },
     "execution_count": 127,
     "metadata": {},
     "output_type": "execute_result"
    }
   ],
   "source": [
    "len(df[df['hours-per-week'] == 99])"
   ]
  },
  {
   "cell_type": "code",
   "execution_count": 129,
   "id": "6d4ee8bb",
   "metadata": {},
   "outputs": [],
   "source": [
    "nine = df[df['hours-per-week'] == 99] "
   ]
  },
  {
   "cell_type": "code",
   "execution_count": 133,
   "id": "4c7189dd",
   "metadata": {},
   "outputs": [
    {
     "data": {
      "text/plain": [
       "25"
      ]
     },
     "execution_count": 133,
     "metadata": {},
     "output_type": "execute_result"
    }
   ],
   "source": [
    "len(nine[nine['salary'] == '>50K'])"
   ]
  },
  {
   "cell_type": "code",
   "execution_count": 137,
   "id": "6969e269",
   "metadata": {},
   "outputs": [],
   "source": [
    "greater50k = df[df['salary'] == '>50K']\n",
    "less50k = df[df['salary'] == '<=50K']"
   ]
  },
  {
   "cell_type": "code",
   "execution_count": 142,
   "id": "a4544108",
   "metadata": {},
   "outputs": [],
   "source": [
    "a = greater50k.groupby('native-country')['hours-per-week'].mean().sort_values()"
   ]
  },
  {
   "cell_type": "code",
   "execution_count": 143,
   "id": "4eb009a1",
   "metadata": {},
   "outputs": [],
   "source": [
    "b = less50k.groupby('native-country')['hours-per-week'].mean()"
   ]
  },
  {
   "cell_type": "code",
   "execution_count": 147,
   "id": "ad8640c6",
   "metadata": {},
   "outputs": [],
   "source": [
    "a = a.reset_index()\n",
    "b = b.reset_index()"
   ]
  },
  {
   "cell_type": "code",
   "execution_count": 151,
   "id": "7641a59a",
   "metadata": {},
   "outputs": [],
   "source": [
    "a.rename(columns={'hours-per-week' : 'hours-per-week >50'},inplace=True)"
   ]
  },
  {
   "cell_type": "code",
   "execution_count": 152,
   "id": "658a6b70",
   "metadata": {},
   "outputs": [],
   "source": [
    "b.rename(columns={'hours-per-week' : 'hours-per-week <=50'},inplace=True)"
   ]
  },
  {
   "cell_type": "code",
   "execution_count": null,
   "id": "efccaa94",
   "metadata": {},
   "outputs": [],
   "source": []
  },
  {
   "cell_type": "code",
   "execution_count": 155,
   "id": "ebd6f5d2",
   "metadata": {},
   "outputs": [],
   "source": [
    "hours_mean = pd.merge(a,b,on = 'native-country')"
   ]
  },
  {
   "cell_type": "code",
   "execution_count": 156,
   "id": "d7b6ca45",
   "metadata": {},
   "outputs": [
    {
     "data": {
      "text/html": [
       "<div>\n",
       "<style scoped>\n",
       "    .dataframe tbody tr th:only-of-type {\n",
       "        vertical-align: middle;\n",
       "    }\n",
       "\n",
       "    .dataframe tbody tr th {\n",
       "        vertical-align: top;\n",
       "    }\n",
       "\n",
       "    .dataframe thead th {\n",
       "        text-align: right;\n",
       "    }\n",
       "</style>\n",
       "<table border=\"1\" class=\"dataframe\">\n",
       "  <thead>\n",
       "    <tr style=\"text-align: right;\">\n",
       "      <th></th>\n",
       "      <th>index</th>\n",
       "      <th>native-country</th>\n",
       "      <th>hours-per-week &gt;50</th>\n",
       "      <th>hours-per-week &lt;=50</th>\n",
       "    </tr>\n",
       "  </thead>\n",
       "  <tbody>\n",
       "    <tr>\n",
       "      <th>0</th>\n",
       "      <td>0</td>\n",
       "      <td>Guatemala</td>\n",
       "      <td>36.666667</td>\n",
       "      <td>39.338983</td>\n",
       "    </tr>\n",
       "    <tr>\n",
       "      <th>1</th>\n",
       "      <td>1</td>\n",
       "      <td>Nicaragua</td>\n",
       "      <td>37.500000</td>\n",
       "      <td>36.093750</td>\n",
       "    </tr>\n",
       "    <tr>\n",
       "      <th>2</th>\n",
       "      <td>2</td>\n",
       "      <td>China</td>\n",
       "      <td>38.900000</td>\n",
       "      <td>37.381818</td>\n",
       "    </tr>\n",
       "    <tr>\n",
       "      <th>3</th>\n",
       "      <td>3</td>\n",
       "      <td>Poland</td>\n",
       "      <td>39.000000</td>\n",
       "      <td>38.166667</td>\n",
       "    </tr>\n",
       "    <tr>\n",
       "      <th>4</th>\n",
       "      <td>4</td>\n",
       "      <td>Vietnam</td>\n",
       "      <td>39.200000</td>\n",
       "      <td>37.193548</td>\n",
       "    </tr>\n",
       "    <tr>\n",
       "      <th>5</th>\n",
       "      <td>5</td>\n",
       "      <td>Puerto-Rico</td>\n",
       "      <td>39.416667</td>\n",
       "      <td>38.470588</td>\n",
       "    </tr>\n",
       "    <tr>\n",
       "      <th>6</th>\n",
       "      <td>6</td>\n",
       "      <td>Laos</td>\n",
       "      <td>40.000000</td>\n",
       "      <td>40.375000</td>\n",
       "    </tr>\n",
       "    <tr>\n",
       "      <th>7</th>\n",
       "      <td>7</td>\n",
       "      <td>Peru</td>\n",
       "      <td>40.000000</td>\n",
       "      <td>35.068966</td>\n",
       "    </tr>\n",
       "    <tr>\n",
       "      <th>8</th>\n",
       "      <td>8</td>\n",
       "      <td>Cambodia</td>\n",
       "      <td>40.000000</td>\n",
       "      <td>41.416667</td>\n",
       "    </tr>\n",
       "    <tr>\n",
       "      <th>9</th>\n",
       "      <td>9</td>\n",
       "      <td>Trinadad&amp;Tobago</td>\n",
       "      <td>40.000000</td>\n",
       "      <td>37.058824</td>\n",
       "    </tr>\n",
       "    <tr>\n",
       "      <th>10</th>\n",
       "      <td>10</td>\n",
       "      <td>Jamaica</td>\n",
       "      <td>41.100000</td>\n",
       "      <td>38.239437</td>\n",
       "    </tr>\n",
       "    <tr>\n",
       "      <th>11</th>\n",
       "      <td>11</td>\n",
       "      <td>Portugal</td>\n",
       "      <td>41.500000</td>\n",
       "      <td>41.939394</td>\n",
       "    </tr>\n",
       "    <tr>\n",
       "      <th>12</th>\n",
       "      <td>12</td>\n",
       "      <td>Cuba</td>\n",
       "      <td>42.440000</td>\n",
       "      <td>37.985714</td>\n",
       "    </tr>\n",
       "    <tr>\n",
       "      <th>13</th>\n",
       "      <td>13</td>\n",
       "      <td>Haiti</td>\n",
       "      <td>42.750000</td>\n",
       "      <td>36.325000</td>\n",
       "    </tr>\n",
       "    <tr>\n",
       "      <th>14</th>\n",
       "      <td>14</td>\n",
       "      <td>Philippines</td>\n",
       "      <td>43.032787</td>\n",
       "      <td>38.065693</td>\n",
       "    </tr>\n",
       "    <tr>\n",
       "      <th>15</th>\n",
       "      <td>15</td>\n",
       "      <td>England</td>\n",
       "      <td>44.533333</td>\n",
       "      <td>40.483333</td>\n",
       "    </tr>\n",
       "    <tr>\n",
       "      <th>16</th>\n",
       "      <td>16</td>\n",
       "      <td>Germany</td>\n",
       "      <td>44.977273</td>\n",
       "      <td>39.139785</td>\n",
       "    </tr>\n",
       "    <tr>\n",
       "      <th>17</th>\n",
       "      <td>17</td>\n",
       "      <td>El-Salvador</td>\n",
       "      <td>45.000000</td>\n",
       "      <td>36.030928</td>\n",
       "    </tr>\n",
       "    <tr>\n",
       "      <th>18</th>\n",
       "      <td>18</td>\n",
       "      <td>Hong</td>\n",
       "      <td>45.000000</td>\n",
       "      <td>39.142857</td>\n",
       "    </tr>\n",
       "    <tr>\n",
       "      <th>19</th>\n",
       "      <td>19</td>\n",
       "      <td>Italy</td>\n",
       "      <td>45.400000</td>\n",
       "      <td>39.625000</td>\n",
       "    </tr>\n",
       "    <tr>\n",
       "      <th>20</th>\n",
       "      <td>20</td>\n",
       "      <td>United-States</td>\n",
       "      <td>45.505789</td>\n",
       "      <td>38.803812</td>\n",
       "    </tr>\n",
       "    <tr>\n",
       "      <th>21</th>\n",
       "      <td>21</td>\n",
       "      <td>?</td>\n",
       "      <td>45.547945</td>\n",
       "      <td>40.165138</td>\n",
       "    </tr>\n",
       "    <tr>\n",
       "      <th>22</th>\n",
       "      <td>22</td>\n",
       "      <td>Canada</td>\n",
       "      <td>45.641026</td>\n",
       "      <td>37.914634</td>\n",
       "    </tr>\n",
       "    <tr>\n",
       "      <th>23</th>\n",
       "      <td>23</td>\n",
       "      <td>India</td>\n",
       "      <td>46.475000</td>\n",
       "      <td>38.233333</td>\n",
       "    </tr>\n",
       "    <tr>\n",
       "      <th>24</th>\n",
       "      <td>24</td>\n",
       "      <td>Mexico</td>\n",
       "      <td>46.575758</td>\n",
       "      <td>39.953795</td>\n",
       "    </tr>\n",
       "    <tr>\n",
       "      <th>25</th>\n",
       "      <td>25</td>\n",
       "      <td>Scotland</td>\n",
       "      <td>46.666667</td>\n",
       "      <td>39.444444</td>\n",
       "    </tr>\n",
       "    <tr>\n",
       "      <th>26</th>\n",
       "      <td>26</td>\n",
       "      <td>Taiwan</td>\n",
       "      <td>46.800000</td>\n",
       "      <td>33.774194</td>\n",
       "    </tr>\n",
       "    <tr>\n",
       "      <th>27</th>\n",
       "      <td>27</td>\n",
       "      <td>Dominican-Republic</td>\n",
       "      <td>47.000000</td>\n",
       "      <td>42.338235</td>\n",
       "    </tr>\n",
       "    <tr>\n",
       "      <th>28</th>\n",
       "      <td>28</td>\n",
       "      <td>Iran</td>\n",
       "      <td>47.500000</td>\n",
       "      <td>41.440000</td>\n",
       "    </tr>\n",
       "    <tr>\n",
       "      <th>29</th>\n",
       "      <td>29</td>\n",
       "      <td>Japan</td>\n",
       "      <td>47.958333</td>\n",
       "      <td>41.000000</td>\n",
       "    </tr>\n",
       "    <tr>\n",
       "      <th>30</th>\n",
       "      <td>30</td>\n",
       "      <td>Ireland</td>\n",
       "      <td>48.000000</td>\n",
       "      <td>40.947368</td>\n",
       "    </tr>\n",
       "    <tr>\n",
       "      <th>31</th>\n",
       "      <td>31</td>\n",
       "      <td>Ecuador</td>\n",
       "      <td>48.750000</td>\n",
       "      <td>38.041667</td>\n",
       "    </tr>\n",
       "    <tr>\n",
       "      <th>32</th>\n",
       "      <td>32</td>\n",
       "      <td>Yugoslavia</td>\n",
       "      <td>49.500000</td>\n",
       "      <td>41.600000</td>\n",
       "    </tr>\n",
       "    <tr>\n",
       "      <th>33</th>\n",
       "      <td>33</td>\n",
       "      <td>Hungary</td>\n",
       "      <td>50.000000</td>\n",
       "      <td>31.300000</td>\n",
       "    </tr>\n",
       "    <tr>\n",
       "      <th>34</th>\n",
       "      <td>34</td>\n",
       "      <td>Columbia</td>\n",
       "      <td>50.000000</td>\n",
       "      <td>38.684211</td>\n",
       "    </tr>\n",
       "    <tr>\n",
       "      <th>35</th>\n",
       "      <td>35</td>\n",
       "      <td>Greece</td>\n",
       "      <td>50.625000</td>\n",
       "      <td>41.809524</td>\n",
       "    </tr>\n",
       "    <tr>\n",
       "      <th>36</th>\n",
       "      <td>36</td>\n",
       "      <td>France</td>\n",
       "      <td>50.750000</td>\n",
       "      <td>41.058824</td>\n",
       "    </tr>\n",
       "    <tr>\n",
       "      <th>37</th>\n",
       "      <td>37</td>\n",
       "      <td>South</td>\n",
       "      <td>51.437500</td>\n",
       "      <td>40.156250</td>\n",
       "    </tr>\n",
       "    <tr>\n",
       "      <th>38</th>\n",
       "      <td>38</td>\n",
       "      <td>Thailand</td>\n",
       "      <td>58.333333</td>\n",
       "      <td>42.866667</td>\n",
       "    </tr>\n",
       "    <tr>\n",
       "      <th>39</th>\n",
       "      <td>39</td>\n",
       "      <td>Honduras</td>\n",
       "      <td>60.000000</td>\n",
       "      <td>34.333333</td>\n",
       "    </tr>\n",
       "  </tbody>\n",
       "</table>\n",
       "</div>"
      ],
      "text/plain": [
       "    index      native-country  hours-per-week >50  hours-per-week <=50\n",
       "0       0           Guatemala           36.666667            39.338983\n",
       "1       1           Nicaragua           37.500000            36.093750\n",
       "2       2               China           38.900000            37.381818\n",
       "3       3              Poland           39.000000            38.166667\n",
       "4       4             Vietnam           39.200000            37.193548\n",
       "5       5         Puerto-Rico           39.416667            38.470588\n",
       "6       6                Laos           40.000000            40.375000\n",
       "7       7                Peru           40.000000            35.068966\n",
       "8       8            Cambodia           40.000000            41.416667\n",
       "9       9     Trinadad&Tobago           40.000000            37.058824\n",
       "10     10             Jamaica           41.100000            38.239437\n",
       "11     11            Portugal           41.500000            41.939394\n",
       "12     12                Cuba           42.440000            37.985714\n",
       "13     13               Haiti           42.750000            36.325000\n",
       "14     14         Philippines           43.032787            38.065693\n",
       "15     15             England           44.533333            40.483333\n",
       "16     16             Germany           44.977273            39.139785\n",
       "17     17         El-Salvador           45.000000            36.030928\n",
       "18     18                Hong           45.000000            39.142857\n",
       "19     19               Italy           45.400000            39.625000\n",
       "20     20       United-States           45.505789            38.803812\n",
       "21     21                   ?           45.547945            40.165138\n",
       "22     22              Canada           45.641026            37.914634\n",
       "23     23               India           46.475000            38.233333\n",
       "24     24              Mexico           46.575758            39.953795\n",
       "25     25            Scotland           46.666667            39.444444\n",
       "26     26              Taiwan           46.800000            33.774194\n",
       "27     27  Dominican-Republic           47.000000            42.338235\n",
       "28     28                Iran           47.500000            41.440000\n",
       "29     29               Japan           47.958333            41.000000\n",
       "30     30             Ireland           48.000000            40.947368\n",
       "31     31             Ecuador           48.750000            38.041667\n",
       "32     32          Yugoslavia           49.500000            41.600000\n",
       "33     33             Hungary           50.000000            31.300000\n",
       "34     34            Columbia           50.000000            38.684211\n",
       "35     35              Greece           50.625000            41.809524\n",
       "36     36              France           50.750000            41.058824\n",
       "37     37               South           51.437500            40.156250\n",
       "38     38            Thailand           58.333333            42.866667\n",
       "39     39            Honduras           60.000000            34.333333"
      ]
     },
     "execution_count": 156,
     "metadata": {},
     "output_type": "execute_result"
    }
   ],
   "source": [
    "hours_mean"
   ]
  },
  {
   "cell_type": "code",
   "execution_count": null,
   "id": "1a9def17",
   "metadata": {},
   "outputs": [],
   "source": []
  }
 ],
 "metadata": {
  "kernelspec": {
   "display_name": "Python 3 (ipykernel)",
   "language": "python",
   "name": "python3"
  },
  "language_info": {
   "codemirror_mode": {
    "name": "ipython",
    "version": 3
   },
   "file_extension": ".py",
   "mimetype": "text/x-python",
   "name": "python",
   "nbconvert_exporter": "python",
   "pygments_lexer": "ipython3",
   "version": "3.9.13"
  }
 },
 "nbformat": 4,
 "nbformat_minor": 5
}
